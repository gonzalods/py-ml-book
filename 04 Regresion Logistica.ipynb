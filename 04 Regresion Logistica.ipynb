{
 "cells": [
  {
   "cell_type": "markdown",
   "metadata": {},
   "source": [
    "# Modelado de Probabilidades de Clase con Regresión Logística #\n",
    "El problema principal con el perceptrón es que nunca converge si si las clases no son perfectamente linealmente separables.\n",
    "\n",
    "Se puede utilizar otro algoritmo simple, pero potente, para problemas de clasificación lineal y binario denominaodo **regresión logística**. Pese a su nombre, la regresión logística es un modelo para clasificación y no regresión."
   ]
  },
  {
   "cell_type": "markdown",
   "metadata": {},
   "source": [
    "### Regresión logística y probabilidades condicionales ###\n",
    "Como ya se ha dicho, la regresión logística es un **modelo lineal de clasificación** muy fácil de implementar y con un muy buen rendimiento en clases separables linealmente.\n",
    "\n",
    "> ##### Regresión logística para múltiples clases #####\n",
    "> Hay que tener en cuenta que la regresión logística se puede generalizar fácilmente a configuraciones multiclase, lo que se conoce como **regresión logística multinomial** o **regresión softmax**.\n",
    "> Otra forma de utilizar la regresión logística en entornos multiclase es a través de la técnica OvR.\n",
    "\n",
    "##### Posibilidad (odds) #####\n",
    "Para explicar la idea detras de la regresión logística como modelo probabilístico para la clasificación binaria, se va a introducir la idea de **posibilidad (odds)**: las probabilidades a favor de un evento en particular. La posibilidad se puede expresar por $\\frac{p}{1-p}$ donde $p$ expreasa la probabilidad de un evento de interes.\n",
    "\n",
    "##### Función logit #####\n"
   ]
  },
  {
   "cell_type": "code",
   "execution_count": null,
   "metadata": {},
   "outputs": [],
   "source": []
  }
 ],
 "metadata": {
  "kernelspec": {
   "display_name": "Python 3",
   "language": "python",
   "name": "python3"
  },
  "language_info": {
   "codemirror_mode": {
    "name": "ipython",
    "version": 3
   },
   "file_extension": ".py",
   "mimetype": "text/x-python",
   "name": "python",
   "nbconvert_exporter": "python",
   "pygments_lexer": "ipython3",
   "version": "3.7.3"
  }
 },
 "nbformat": 4,
 "nbformat_minor": 2
}
